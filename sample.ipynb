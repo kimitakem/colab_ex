{
  "nbformat": 4,
  "nbformat_minor": 0,
  "metadata": {
    "colab": {
      "name": "sample.ipynb",
      "version": "0.3.2",
      "provenance": [],
      "collapsed_sections": [],
      "include_colab_link": true
    },
    "kernelspec": {
      "name": "python3",
      "display_name": "Python 3"
    }
  },
  "cells": [
    {
      "cell_type": "markdown",
      "metadata": {
        "id": "view-in-github",
        "colab_type": "text"
      },
      "source": [
        "[View in Colaboratory](https://colab.research.google.com/github/kimitakem/colab_ex/blob/master/sample.ipynb)"
      ]
    },
    {
      "metadata": {
        "id": "g_cjp99Oo7Vk",
        "colab_type": "text"
      },
      "cell_type": "markdown",
      "source": [
        "# Tensorflow Eager executiomモードのチュートリアル要約\n",
        "## 初期化：\n",
        "- ライブラリのインポートと、Eagerモードのアクティベーションを行う\n"
      ]
    },
    {
      "metadata": {
        "id": "10oWegk_CykA",
        "colab_type": "code",
        "colab": {}
      },
      "cell_type": "code",
      "source": [
        "import tensorflow as tf\n",
        "tf.enable_eager_execution()"
      ],
      "execution_count": 0,
      "outputs": []
    },
    {
      "metadata": {
        "id": "-DY5oWJJo7Vz",
        "colab_type": "text"
      },
      "cell_type": "markdown",
      "source": [
        "## 環境の確認\n",
        "- Tensorflowのバージョン\n",
        "- Eagerモードになっているかの確認"
      ]
    },
    {
      "metadata": {
        "id": "GecR8aiKo7V1",
        "colab_type": "code",
        "colab": {},
        "outputId": "835179df-94dd-4160-9d9b-33efbe1d7768"
      },
      "cell_type": "code",
      "source": [
        "import tensorflow.contrib.eager as tfe\n",
        "\n",
        "print(\"Tensorflow Version: {}\".format(tf.__version__))\n",
        "print(\"Check Eager Mode: {}\".format(tf.executing_eagerly()))\n",
        "\n",
        "\n"
      ],
      "execution_count": 0,
      "outputs": [
        {
          "output_type": "stream",
          "text": [
            "Tensorflow Version: 1.9.0\n",
            "Check Eager Mode: True\n"
          ],
          "name": "stdout"
        }
      ]
    },
    {
      "metadata": {
        "id": "hmERBUJZo7WE",
        "colab_type": "text"
      },
      "cell_type": "markdown",
      "source": [
        "## 微分演算を行う"
      ]
    },
    {
      "metadata": {
        "id": "bvJ2E8moo7WH",
        "colab_type": "code",
        "colab": {},
        "outputId": "5d48b58d-68a9-48de-9074-e09f9e5cb27d"
      },
      "cell_type": "code",
      "source": [
        "tfe = tf.contrib.eager\n",
        "\n",
        "w = tfe.Variable([[5.0]])\n",
        "with tf.GradientTape() as tape:\n",
        "    loss = w * w\n",
        "\n",
        "grad = tape.gradient(loss, w)\n",
        "print(grad)"
      ],
      "execution_count": 0,
      "outputs": [
        {
          "output_type": "stream",
          "text": [
            "tf.Tensor([[10.]], shape=(1, 1), dtype=float32)\n"
          ],
          "name": "stdout"
        }
      ]
    },
    {
      "metadata": {
        "id": "JGX0S56zo7WO",
        "colab_type": "code",
        "colab": {}
      },
      "cell_type": "code",
      "source": [
        ""
      ],
      "execution_count": 0,
      "outputs": []
    },
    {
      "metadata": {
        "id": "lolKvWAApHXv",
        "colab_type": "text"
      },
      "cell_type": "markdown",
      "source": [
        "## 単純モデルの学習\n",
        "- Mnist\n"
      ]
    }
  ]
}