{
 "cells": [
  {
   "cell_type": "markdown",
   "metadata": {
    "id": "view-in-github",
    "colab_type": "text"
   },
   "source": [
    "[View in Colaboratory](https://colab.research.google.com/github/kimitakem/colab_ex/blob/master/sample.ipynb)"
   ]
  },
  {
   "cell_type": "markdown",
   "metadata": {
    "id": "g_cjp99Oo7Vk",
    "colab_type": "text"
   },
   "source": [
    "# Tensorflow: Eager executionモード\n",
    "## 初期化：\n",
    "- ライブラリのインポート\n",
    "- Eagerモードのアクティベーションを行う\n"
   ]
  },
  {
   "cell_type": "code",
   "execution_count": 1,
   "metadata": {
    "id": "10oWegk_CykA",
    "colab_type": "code",
    "colab": {}
   },
   "outputs": [],
   "source": [
    "import tensorflow as tf\n",
    "tf.enable_eager_execution()"
   ]
  },
  {
   "cell_type": "markdown",
   "metadata": {
    "id": "-DY5oWJJo7Vz",
    "colab_type": "text"
   },
   "source": [
    "## 環境の確認\n",
    "- Tensorflowのバージョン\n",
    "- Eagerモードになっているかの確認"
   ]
  },
  {
   "cell_type": "code",
   "execution_count": 2,
   "metadata": {
    "id": "GecR8aiKo7V1",
    "colab_type": "code",
    "colab": {},
    "outputId": "835179df-94dd-4160-9d9b-33efbe1d7768"
   },
   "outputs": [
    {
     "name": "stdout",
     "output_type": "stream",
     "text": [
      "Tensorflow Version: 1.9.0\nCheck Eager Mode: True\n"
     ]
    }
   ],
   "source": [
    "print(\"Tensorflow Version: {}\".format(tf.__version__))\n",
    "print(\"Check Eager Mode: {}\".format(tf.executing_eagerly()))\n",
    "tfe = tf.contrib.eager\n"
   ]
  },
  {
   "cell_type": "markdown",
   "metadata": {
    "id": "hmERBUJZo7WE",
    "colab_type": "text"
   },
   "source": [
    "## GradientTapeを使った微分演算\n",
    "- 変数の定義：`tf.contrib.eager.Variable`を使う。\n",
    "- with文の中でGradientTapeを開き、数式間の関係性を定義する\n",
    "- `GradientTape.gradient`で微分を算出する\n"
   ]
  },
  {
   "cell_type": "code",
   "execution_count": 21,
   "metadata": {
    "id": "bvJ2E8moo7WH",
    "colab_type": "code",
    "colab": {},
    "outputId": "5d48b58d-68a9-48de-9074-e09f9e5cb27d"
   },
   "outputs": [
    {
     "name": "stdout",
     "output_type": "stream",
     "text": [
      "tf.Tensor(10.0, shape=(), dtype=float32)\ntf.Tensor(\n[[10.  8.]\n [ 6.  4.]], shape=(2, 2), dtype=float32)\n"
     ]
    }
   ],
   "source": [
    "w_scalar = tfe.Variable(5.0)\n",
    "w_matrix = tfe.Variable([[5.0, 4.0], [3.0, 2.0]])\n",
    "\n",
    "with tf.GradientTape() as tape:\n",
    "    loss_scalar = w_scalar * w_scalar\n",
    "\n",
    "print(\"loss_scalarのw_scalarに対する微分\")    \n",
    "print(tape.gradient(loss_scalar, w_scalar))\n",
    "\n",
    "with tf.GradientTape() as tape:\n",
    "    loss_mat = w_matrix * w_matrix\n",
    "    \n",
    "print(\"loss_matrixのw_matrixに対する微分\")    \n",
    "print(tape.gradient(loss_mat, w_matrix))    \n"
   ]
  },
  {
   "cell_type": "markdown",
   "metadata": {
    "id": "lolKvWAApHXv",
    "colab_type": "text"
   },
   "source": [
    "## 単純モデルの学習\n",
    "- 線形モデルの回帰\n"
   ]
  },
  {
   "cell_type": "code",
   "execution_count": 31,
   "metadata": {
    "id": "JGX0S56zo7WO",
    "colab_type": "code",
    "colab": {}
   },
   "outputs": [
    {
     "name": "stdout",
     "output_type": "stream",
     "text": [
      "Training Input:[ 0.35780424 -0.2101717  -1.2546268  -0.5493252   0.04965408]...\nTraining Output:[ 4.6908164   3.7751508  -2.6632924   0.68101513  2.271222  ]...\nInitial Loss: 50.576\nLoss at step 000: 43.030\nLoss at step 020: 2.507\nLoss at step 040: 0.995\nLoss at step 060: 0.938\nLoss at step 080: 0.936\nFinal Loss: 0.936\nW = 4.006326198577881 / W_gt = 4\nB = 2.9826340675354004 / B_gt = 3\n"
     ]
    }
   ],
   "source": [
    "NUM_EXAMPLES = 1000\n",
    "gt_weight = 4\n",
    "gt_bias = 3\n",
    "training_inputs = tf.random_normal([NUM_EXAMPLES])\n",
    "noise = tf.random_normal([NUM_EXAMPLES])\n",
    "training_outputs = training_inputs * gt_weight + gt_bias + noise\n",
    "\n",
    "print(\"Training Input:{}...\".format(training_inputs[:5]))\n",
    "print(\"Training Output:{}...\".format(training_outputs[:5]))\n",
    "\n",
    "\n",
    "def prediction(input, weight, bias):\n",
    "    return input * weight + bias\n",
    "\n",
    "\n",
    "# Loss Function\n",
    "def loss(weights, biases):\n",
    "    error = prediction(training_inputs, weights, biases) - training_outputs\n",
    "    return tf.reduce_mean(tf.square(error))\n",
    "\n",
    "\n",
    "def grad(weights, biases):\n",
    "    with tf.GradientTape() as tape:\n",
    "        loss_value = loss(weights, biases)\n",
    "    return tape.gradient(loss_value, [weights, biases])\n",
    "\n",
    "\n",
    "training_steps = 100\n",
    "learning_rate = 0.04\n",
    "\n",
    "W = tfe.Variable(5.)\n",
    "B = tfe.Variable(10.)\n",
    "\n",
    "print(\"Initial Loss: {:.3f}\".format(loss(W, B)))\n",
    "\n",
    "for i in range(training_steps):\n",
    "    dW, dB = grad(W, B)\n",
    "    W.assign_sub(dW * learning_rate)\n",
    "    B.assign_sub(dB * learning_rate)\n",
    "    if i % 20 == 0:\n",
    "        print(\"Loss at step {:03d}: {:.3f}\".format(i, loss(W, B)))\n",
    "\n",
    "print(\"Final Loss: {:.3f}\".format(loss(W, B)))\n",
    "print(\"W = {} / W_gt = {}\".format(W.numpy(), gt_weight))\n",
    "print(\"B = {} / B_gt = {}\".format(B.numpy(), gt_bias))\n",
    "\n"
   ]
  },
  {
   "cell_type": "markdown",
   "metadata": {},
   "source": [
    "## Mnistの学習\n",
    "#### 事前準備\n",
    "- 実行前に、https://github.com/tensorflow/models.gitをcloneしpythonpathを通す\n",
    "- pycharmのpythonpathの設定はproject interpretorの設定から"
   ]
  },
  {
   "cell_type": "code",
   "execution_count": 32,
   "metadata": {},
   "outputs": [],
   "source": [
    "import official.mnist"
   ]
  },
  {
   "cell_type": "code",
   "execution_count": 34,
   "metadata": {},
   "outputs": [
    {
     "name": "stdout",
     "output_type": "stream",
     "text": [
      "Downloading https://storage.googleapis.com/cvdf-datasets/mnist/train-labels-idx1-ubyte.gz to C:\\Users\\kimim\\AppData\\Local\\Temp\\tmp14f5s5x7.gz\n"
     ]
    },
    {
     "ename": "PermissionError",
     "evalue": "[WinError 32] プロセスはファイルにアクセスできません。別のプロセスが使用中です。: 'C:\\\\Users\\\\kimim\\\\AppData\\\\Local\\\\Temp\\\\tmp14f5s5x7.gz'",
     "traceback": [
      "\u001b[1;31m---------------------------------------------------------------------------\u001b[0m",
      "\u001b[1;31mPermissionError\u001b[0m                           Traceback (most recent call last)",
      "\u001b[1;32m<ipython-input-34-715567dd3b55>\u001b[0m in \u001b[0;36m<module>\u001b[1;34m()\u001b[0m\n\u001b[0;32m      1\u001b[0m \u001b[1;32mfrom\u001b[0m \u001b[0mofficial\u001b[0m\u001b[1;33m.\u001b[0m\u001b[0mmnist\u001b[0m \u001b[1;32mimport\u001b[0m \u001b[0mdataset\u001b[0m \u001b[1;32mas\u001b[0m \u001b[0mmnist_dataset\u001b[0m\u001b[1;33m\u001b[0m\u001b[0m\n\u001b[1;32m----> 2\u001b[1;33m \u001b[0mmnist_dataset\u001b[0m\u001b[1;33m.\u001b[0m\u001b[0mtrain\u001b[0m\u001b[1;33m(\u001b[0m\u001b[1;34m\".\"\u001b[0m\u001b[1;33m)\u001b[0m\u001b[1;33m\u001b[0m\u001b[0m\n\u001b[0m",
      "\u001b[1;32m~\\Work\\tf_models\\models\\official\\mnist\\dataset.py\u001b[0m in \u001b[0;36mtrain\u001b[1;34m(directory)\u001b[0m\n\u001b[0;32m    110\u001b[0m   \u001b[1;34m\"\"\"tf.data.Dataset object for MNIST training data.\"\"\"\u001b[0m\u001b[1;33m\u001b[0m\u001b[0m\n\u001b[0;32m    111\u001b[0m   return dataset(directory, 'train-images-idx3-ubyte',\n\u001b[1;32m--> 112\u001b[1;33m                  'train-labels-idx1-ubyte')\n\u001b[0m\u001b[0;32m    113\u001b[0m \u001b[1;33m\u001b[0m\u001b[0m\n\u001b[0;32m    114\u001b[0m \u001b[1;33m\u001b[0m\u001b[0m\n",
      "\u001b[1;32m~\\Work\\tf_models\\models\\official\\mnist\\dataset.py\u001b[0m in \u001b[0;36mdataset\u001b[1;34m(directory, images_file, labels_file)\u001b[0m\n\u001b[0;32m     83\u001b[0m \u001b[1;33m\u001b[0m\u001b[0m\n\u001b[0;32m     84\u001b[0m   \u001b[0mimages_file\u001b[0m \u001b[1;33m=\u001b[0m \u001b[0mdownload\u001b[0m\u001b[1;33m(\u001b[0m\u001b[0mdirectory\u001b[0m\u001b[1;33m,\u001b[0m \u001b[0mimages_file\u001b[0m\u001b[1;33m)\u001b[0m\u001b[1;33m\u001b[0m\u001b[0m\n\u001b[1;32m---> 85\u001b[1;33m   \u001b[0mlabels_file\u001b[0m \u001b[1;33m=\u001b[0m \u001b[0mdownload\u001b[0m\u001b[1;33m(\u001b[0m\u001b[0mdirectory\u001b[0m\u001b[1;33m,\u001b[0m \u001b[0mlabels_file\u001b[0m\u001b[1;33m)\u001b[0m\u001b[1;33m\u001b[0m\u001b[0m\n\u001b[0m\u001b[0;32m     86\u001b[0m \u001b[1;33m\u001b[0m\u001b[0m\n\u001b[0;32m     87\u001b[0m   \u001b[0mcheck_image_file_header\u001b[0m\u001b[1;33m(\u001b[0m\u001b[0mimages_file\u001b[0m\u001b[1;33m)\u001b[0m\u001b[1;33m\u001b[0m\u001b[0m\n",
      "\u001b[1;32m~\\Work\\tf_models\\models\\official\\mnist\\dataset.py\u001b[0m in \u001b[0;36mdownload\u001b[1;34m(directory, filename)\u001b[0m\n\u001b[0;32m     75\u001b[0m       \u001b[0mtf\u001b[0m\u001b[1;33m.\u001b[0m\u001b[0mgfile\u001b[0m\u001b[1;33m.\u001b[0m\u001b[0mOpen\u001b[0m\u001b[1;33m(\u001b[0m\u001b[0mfilepath\u001b[0m\u001b[1;33m,\u001b[0m \u001b[1;34m'wb'\u001b[0m\u001b[1;33m)\u001b[0m \u001b[1;32mas\u001b[0m \u001b[0mf_out\u001b[0m\u001b[1;33m:\u001b[0m\u001b[1;33m\u001b[0m\u001b[0m\n\u001b[0;32m     76\u001b[0m     \u001b[0mshutil\u001b[0m\u001b[1;33m.\u001b[0m\u001b[0mcopyfileobj\u001b[0m\u001b[1;33m(\u001b[0m\u001b[0mf_in\u001b[0m\u001b[1;33m,\u001b[0m \u001b[0mf_out\u001b[0m\u001b[1;33m)\u001b[0m\u001b[1;33m\u001b[0m\u001b[0m\n\u001b[1;32m---> 77\u001b[1;33m   \u001b[0mos\u001b[0m\u001b[1;33m.\u001b[0m\u001b[0mremove\u001b[0m\u001b[1;33m(\u001b[0m\u001b[0mzipped_filepath\u001b[0m\u001b[1;33m)\u001b[0m\u001b[1;33m\u001b[0m\u001b[0m\n\u001b[0m\u001b[0;32m     78\u001b[0m   \u001b[1;32mreturn\u001b[0m \u001b[0mfilepath\u001b[0m\u001b[1;33m\u001b[0m\u001b[0m\n\u001b[0;32m     79\u001b[0m \u001b[1;33m\u001b[0m\u001b[0m\n",
      "\u001b[1;31mPermissionError\u001b[0m: [WinError 32] プロセスはファイルにアクセスできません。別のプロセスが使用中です。: 'C:\\\\Users\\\\kimim\\\\AppData\\\\Local\\\\Temp\\\\tmp14f5s5x7.gz'"
     ],
     "output_type": "error"
    }
   ],
   "source": [
    "from official.mnist import dataset as mnist_dataset\n",
    "mnist_dataset.train(\"\")"
   ]
  },
  {
   "cell_type": "code",
   "execution_count": 7,
   "metadata": {},
   "outputs": [
    {
     "name": "stdout",
     "output_type": "stream",
     "text": [
      "C:\\Users\\kimim\\PycharmProjects\\colab_ex\n"
     ]
    }
   ],
   "source": [
    "!cd\n"
   ]
  },
  {
   "cell_type": "code",
   "execution_count": null,
   "metadata": {},
   "outputs": [],
   "source": []
  }
 ],
 "metadata": {
  "colab": {
   "name": "sample.ipynb",
   "version": "0.3.2",
   "provenance": [],
   "collapsed_sections": [],
   "include_colab_link": true
  },
  "kernelspec": {
   "name": "python3",
   "display_name": "Python 3"
  }
 },
 "nbformat": 4,
 "nbformat_minor": 0
}
